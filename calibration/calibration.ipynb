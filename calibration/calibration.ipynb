{
 "cells": [
  {
   "cell_type": "code",
   "id": "initial_id",
   "metadata": {
    "collapsed": true,
    "ExecuteTime": {
     "end_time": "2024-05-19T08:45:08.031767Z",
     "start_time": "2024-05-19T08:45:07.675963Z"
    }
   },
   "source": [
    "!mkdir ~/.kaggle\n",
    "!cp kaggle.json ~/.kaggle/ \n",
    "!chmod 600 ~/.kaggle/kaggle.json"
   ],
   "execution_count": 5,
   "outputs": []
  },
  {
   "metadata": {
    "ExecuteTime": {
     "end_time": "2024-05-19T08:45:05.101731Z",
     "start_time": "2024-05-19T08:45:01.677820Z"
    }
   },
   "cell_type": "code",
   "source": "!kaggle datasets download -d shilongzhuang/telecom-customer-churn-by-maven-analytics",
   "id": "a6f80866b30a8e4f",
   "execution_count": 4,
   "outputs": []
  },
  {
   "metadata": {
    "ExecuteTime": {
     "end_time": "2024-05-19T08:44:40.708848Z",
     "start_time": "2024-05-19T08:44:36.895001Z"
    }
   },
   "cell_type": "code",
   "source": "!pip install kaggle",
   "id": "a97a64e14d7d18c9",
   "execution_count": 3,
   "outputs": []
  },
  {
   "metadata": {
    "ExecuteTime": {
     "end_time": "2024-05-19T08:46:15.258004Z",
     "start_time": "2024-05-19T08:46:15.115320Z"
    }
   },
   "cell_type": "code",
   "source": "!unzip telecom-customer-churn-by-maven-analytics.zip",
   "id": "2326b97e3453aaf9",
   "execution_count": 7,
   "outputs": []
  },
  {
   "metadata": {
    "ExecuteTime": {
     "end_time": "2024-05-19T08:46:47.861090Z",
     "start_time": "2024-05-19T08:46:46.694523Z"
    }
   },
   "cell_type": "code",
   "source": "!pip install ml_insights -q",
   "id": "d7d63f27464f7b9c",
   "execution_count": 8,
   "outputs": []
  },
  {
   "metadata": {
    "ExecuteTime": {
     "end_time": "2024-05-21T08:08:55.684013Z",
     "start_time": "2024-05-21T08:08:55.680128Z"
    }
   },
   "cell_type": "code",
   "source": [
    "import pandas as pd\n",
    "import numpy as np\n",
    "import matplotlib.pyplot as plt\n",
    "import ml_insights as mli\n",
    "%matplotlib inline\n",
    "import lightgbm as lgbm\n",
    "from sklearn.model_selection import train_test_split\n",
    "from sklearn.metrics import log_loss, roc_auc_score, f1_score\n",
    "from sklearn.isotonic import IsotonicRegression\n",
    "from sklearn.linear_model import LogisticRegression\n",
    "from sklearn.calibration import CalibratedClassifierCV\n",
    "from sklearn.ensemble import RandomForestClassifier"
   ],
   "id": "a9488cb6ca4ac7f3",
   "execution_count": 4,
   "outputs": []
  },
  {
   "metadata": {
    "ExecuteTime": {
     "end_time": "2024-05-21T08:08:53.015327Z",
     "start_time": "2024-05-21T08:08:51.628013Z"
    }
   },
   "cell_type": "code",
   "source": "!pip install lightgbm",
   "id": "a2bfde897c3abd44",
   "execution_count": 3,
   "outputs": []
  },
  {
   "metadata": {
    "ExecuteTime": {
     "end_time": "2024-05-21T08:08:57.477231Z",
     "start_time": "2024-05-21T08:08:57.439579Z"
    }
   },
   "cell_type": "code",
   "source": [
    "data = pd.read_csv('telecom_customer_churn.csv')\n",
    "data.head()"
   ],
   "id": "8074e27c6f62701b",
   "execution_count": 5,
   "outputs": []
  },
  {
   "metadata": {
    "ExecuteTime": {
     "end_time": "2024-05-21T08:09:01.413455Z",
     "start_time": "2024-05-21T08:09:01.390819Z"
    }
   },
   "cell_type": "code",
   "source": "data.info()\n",
   "id": "c49053c08ec1b571",
   "execution_count": 6,
   "outputs": []
  },
  {
   "metadata": {
    "ExecuteTime": {
     "end_time": "2024-05-21T08:09:02.556871Z",
     "start_time": "2024-05-21T08:09:02.552531Z"
    }
   },
   "cell_type": "code",
   "source": "data = data.iloc[:, [1, 2, 3, 4, 9, 10, 11, 12, 15, 26, 27, 28, 29, 30, 31, 32, 33, 34, 35]]\n",
   "id": "3771ad9b171ae7ae",
   "execution_count": 7,
   "outputs": []
  },
  {
   "metadata": {
    "ExecuteTime": {
     "end_time": "2024-05-21T08:09:03.214068Z",
     "start_time": "2024-05-21T08:09:03.207604Z"
    }
   },
   "cell_type": "code",
   "source": "data = data[data['Customer Status'] != 'Joined'].reset_index(drop=True)\n",
   "id": "613e60c9199a0580",
   "execution_count": 8,
   "outputs": []
  },
  {
   "metadata": {
    "ExecuteTime": {
     "end_time": "2024-05-21T08:09:03.976820Z",
     "start_time": "2024-05-21T08:09:03.971960Z"
    }
   },
   "cell_type": "code",
   "source": "data['Customer Status'].value_counts()\n",
   "id": "fe56ab81fa97f5c7",
   "execution_count": 9,
   "outputs": []
  },
  {
   "metadata": {
    "ExecuteTime": {
     "end_time": "2024-05-21T08:09:04.526903Z",
     "start_time": "2024-05-21T08:09:04.522983Z"
    }
   },
   "cell_type": "code",
   "source": "data['Customer Status'] = data['Customer Status'].apply(lambda x: 1 if x == 'Churned' else 0)\n",
   "id": "267df44c51d07b1e",
   "execution_count": 10,
   "outputs": []
  },
  {
   "metadata": {
    "ExecuteTime": {
     "end_time": "2024-05-21T08:09:04.895121Z",
     "start_time": "2024-05-21T08:09:04.890177Z"
    }
   },
   "cell_type": "code",
   "source": "data['Customer Status'].value_counts()\n",
   "id": "c299c8f457774ad4",
   "execution_count": 11,
   "outputs": []
  },
  {
   "metadata": {
    "ExecuteTime": {
     "end_time": "2024-05-21T08:09:05.423897Z",
     "start_time": "2024-05-21T08:09:05.416139Z"
    }
   },
   "cell_type": "code",
   "source": "data.head()\n",
   "id": "6f9cbc15acb51372",
   "execution_count": 12,
   "outputs": []
  },
  {
   "metadata": {
    "ExecuteTime": {
     "end_time": "2024-05-21T08:09:06.051204Z",
     "start_time": "2024-05-21T08:09:06.042564Z"
    }
   },
   "cell_type": "code",
   "source": [
    "# Extract categoricals and their indices\n",
    "cat_features = data.select_dtypes(exclude=np.number).columns.to_list()\n",
    "cat_idx = [data.columns.get_loc(col) for col in cat_features]\n",
    "\n",
    "# Convert cat_features to pd.Categorical dtype\n",
    "for col in cat_features:\n",
    "    data[col] = pd.Categorical(data[col])"
   ],
   "id": "93c982d3f5f98458",
   "execution_count": 13,
   "outputs": []
  },
  {
   "metadata": {
    "ExecuteTime": {
     "end_time": "2024-05-21T08:09:06.573336Z",
     "start_time": "2024-05-21T08:09:06.565326Z"
    }
   },
   "cell_type": "code",
   "source": "data.info()\n",
   "id": "c3f8835f3a661fb",
   "execution_count": 14,
   "outputs": []
  },
  {
   "metadata": {
    "ExecuteTime": {
     "end_time": "2024-05-21T08:09:07.040249Z",
     "start_time": "2024-05-21T08:09:07.027363Z"
    }
   },
   "cell_type": "code",
   "source": [
    "train_perc = 0.4\n",
    "val_perc = 0.3\n",
    "test_perc = 0.3\n",
    "rs = 1234\n",
    "\n",
    "X_train_val, X_test, y_train_val, y_test = train_test_split(data.iloc[:, :-1], data.iloc[:, -1], test_size=test_perc,\n",
    "                                                            random_state=rs, stratify=data.iloc[:, -1])\n",
    "\n",
    "X_train, X_val, y_train, y_val = train_test_split(X_train_val, y_train_val, test_size=val_perc, random_state=rs,\n",
    "                                                  stratify=y_train_val)"
   ],
   "id": "f8684ca58bca83a6",
   "execution_count": 15,
   "outputs": []
  },
  {
   "metadata": {
    "ExecuteTime": {
     "end_time": "2024-05-21T08:09:07.542857Z",
     "start_time": "2024-05-21T08:09:07.538802Z"
    }
   },
   "cell_type": "code",
   "source": "X_train.shape, y_train.shape, X_val.shape, y_val.shape, X_test.shape, y_test.shape",
   "id": "3ac116422bfa8339",
   "execution_count": 16,
   "outputs": []
  },
  {
   "metadata": {
    "ExecuteTime": {
     "end_time": "2024-05-21T08:09:08.175507Z",
     "start_time": "2024-05-21T08:09:08.170581Z"
    }
   },
   "cell_type": "code",
   "source": "y_train.value_counts()\n",
   "id": "5b93fb602ce6f320",
   "execution_count": 17,
   "outputs": []
  },
  {
   "metadata": {
    "ExecuteTime": {
     "end_time": "2024-05-21T08:09:08.852864Z",
     "start_time": "2024-05-21T08:09:08.848311Z"
    }
   },
   "cell_type": "code",
   "source": "y_test.value_counts()",
   "id": "72b10f19ada7a04f",
   "execution_count": 18,
   "outputs": []
  },
  {
   "metadata": {
    "ExecuteTime": {
     "end_time": "2024-05-21T08:09:10.217218Z",
     "start_time": "2024-05-21T08:09:10.134627Z"
    }
   },
   "cell_type": "code",
   "source": [
    "%%time\n",
    "\n",
    "lgbm_clf = lgbm.LGBMClassifier(\n",
    "    objective=\"binary\",\n",
    "    random_state=rs,\n",
    "    n_estimators=10,\n",
    "    boosting=\"gbdt\",  # default histogram binning of LGBM\n",
    "    class_weight=\"balanced\",\n",
    ")\n",
    "\n",
    "lgbm_clf.fit(\n",
    "    X_train,\n",
    "    y_train,\n",
    "    categorical_feature=cat_idx\n",
    "\n",
    ")\n",
    "\n",
    "preds_uncalibrated_val = lgbm_clf.predict_proba(X_val)[:, 1]\n",
    "print(f\"LightGBM logloss on the evaluation set: {log_loss(y_val, preds_uncalibrated_val):.5f}\")\n",
    "print(f\"LightGBM ROC-AUC on the evaluation set: {roc_auc_score(y_val, preds_uncalibrated_val):.5f}\")\n",
    "print(f\"LightGBM F1 on the evaluation set: {f1_score(y_val, lgbm_clf.predict(X_val)):.5f}\")"
   ],
   "id": "e5734af26c5256de",
   "execution_count": 19,
   "outputs": []
  },
  {
   "metadata": {
    "ExecuteTime": {
     "end_time": "2024-05-21T08:09:11.582029Z",
     "start_time": "2024-05-21T08:09:11.205548Z"
    }
   },
   "cell_type": "code",
   "source": [
    "preds_uncalibrated_test = lgbm_clf.predict_proba(X_test)[:, 1]\n",
    "print(f\"LightGBM logloss on the test set: {log_loss(y_test, preds_uncalibrated_test):.5f}\")\n",
    "print(f\"LightGBM ROC-AUC on the test set: {roc_auc_score(y_test, preds_uncalibrated_test):.5f}\")\n",
    "print(f\"LightGBM F1 on the test set: {f1_score(y_test, lgbm_clf.predict(X_test)):.5f}\")\n",
    "print()\n",
    "plt.figure(figsize=(15, 5))\n",
    "rd = mli.plot_reliability_diagram(y_test, preds_uncalibrated_test, show_histogram=True)"
   ],
   "id": "7c3c9802c9c7229f",
   "execution_count": 20,
   "outputs": []
  },
  {
   "metadata": {
    "ExecuteTime": {
     "end_time": "2024-05-19T08:57:56.332048Z",
     "start_time": "2024-05-19T08:57:56.328Z"
    }
   },
   "cell_type": "code",
   "source": "y_test",
   "id": "59f5c639ac0c07b0",
   "execution_count": 30,
   "outputs": []
  },
  {
   "metadata": {
    "ExecuteTime": {
     "end_time": "2024-05-19T08:58:22.760680Z",
     "start_time": "2024-05-19T08:58:22.757341Z"
    }
   },
   "cell_type": "code",
   "source": "preds_uncalibrated_test",
   "id": "905a27dfafd9b618",
   "execution_count": 31,
   "outputs": []
  },
  {
   "metadata": {
    "ExecuteTime": {
     "end_time": "2024-05-19T10:54:41.483052Z",
     "start_time": "2024-05-19T10:54:41.479651Z"
    }
   },
   "cell_type": "code",
   "source": "print(y_test)",
   "id": "d3bb3e20bea2adb",
   "execution_count": 33,
   "outputs": []
  },
  {
   "metadata": {
    "ExecuteTime": {
     "end_time": "2024-05-19T10:54:56.429295Z",
     "start_time": "2024-05-19T10:54:56.426581Z"
    }
   },
   "cell_type": "code",
   "source": "type(y_test)",
   "id": "d03303ff9e14ebe0",
   "execution_count": 34,
   "outputs": []
  },
  {
   "metadata": {
    "ExecuteTime": {
     "end_time": "2024-05-19T10:55:08.527821Z",
     "start_time": "2024-05-19T10:55:08.524308Z"
    }
   },
   "cell_type": "code",
   "source": "preds_uncalibrated_test",
   "id": "1a4f3a90fbef071f",
   "execution_count": 35,
   "outputs": []
  },
  {
   "metadata": {
    "ExecuteTime": {
     "end_time": "2024-05-19T11:00:50.796782Z",
     "start_time": "2024-05-19T11:00:50.791548Z"
    }
   },
   "cell_type": "code",
   "source": "preds_uncalibrated_test.shape",
   "id": "2af029922a80606b",
   "execution_count": 36,
   "outputs": []
  },
  {
   "metadata": {
    "ExecuteTime": {
     "end_time": "2024-05-21T08:10:46.534292Z",
     "start_time": "2024-05-21T08:10:46.366661Z"
    }
   },
   "cell_type": "code",
   "source": [
    "from sklearn.calibration import calibration_curve\n",
    "\n",
    "\n",
    "def plot_calibration_curve(name, fig_index, probs):\n",
    "    \"\"\"Plot calibration curve for est w/o and with calibration. \"\"\"\n",
    "\n",
    "    fig = plt.figure(fig_index, figsize=(10, 10))\n",
    "    ax1 = plt.subplot2grid((3, 1), (0, 0), rowspan=2)\n",
    "    ax2 = plt.subplot2grid((3, 1), (2, 0))\n",
    "\n",
    "    ax1.plot([0, 1], [0, 1], \"k:\", label=\"Perfectly calibrated\")\n",
    "\n",
    "    frac_of_pos, mean_pred_value = calibration_curve(y_test, probs, n_bins=20)\n",
    "\n",
    "    ax1.plot(mean_pred_value, frac_of_pos, \"s-\", label=f'{name}')\n",
    "    ax1.set_ylabel(\"Fraction of positives\")\n",
    "    ax1.set_ylim([-0.05, 1.05])\n",
    "    ax1.legend(loc=\"lower right\")\n",
    "    ax1.set_title(f'Calibration plot ({name})')\n",
    "\n",
    "    ax2.hist(probs, range=(0, 1), bins=20, label=name, histtype=\"step\", lw=2)\n",
    "    ax2.set_xlabel(\"Mean predicted value\")\n",
    "    ax2.set_ylabel(\"Count\")\n",
    "\n",
    "\n",
    "plot_calibration_curve(\"LightGBM Uncalibrated\", 1, preds_uncalibrated_test)"
   ],
   "id": "7dd783abd9b31fc8",
   "execution_count": 21,
   "outputs": []
  },
  {
   "metadata": {
    "ExecuteTime": {
     "end_time": "2024-05-21T08:11:04.185205Z",
     "start_time": "2024-05-21T08:11:04.171632Z"
    }
   },
   "cell_type": "code",
   "source": [
    "# Fit Platt scaling (logistic calibration)\n",
    "lr = LogisticRegression(C=99999999999, solver='lbfgs')\n",
    "lr.fit(preds_uncalibrated_val.reshape(-1, 1), y_val)"
   ],
   "id": "3b7b522583ced26b",
   "execution_count": 22,
   "outputs": []
  },
  {
   "metadata": {
    "ExecuteTime": {
     "end_time": "2024-05-21T08:11:13.484965Z",
     "start_time": "2024-05-21T08:11:13.232528Z"
    }
   },
   "cell_type": "code",
   "source": [
    "testset_platt_probs = lr.predict_proba(preds_uncalibrated_test.reshape(-1, 1))[:, 1]\n",
    "print(f\"LightGBM logloss on the test set: {log_loss(y_test, testset_platt_probs):.5f}\")\n",
    "print(f\"LightGBM ROC-AUC on the test set: {roc_auc_score(y_test, testset_platt_probs):.5f}\")\n",
    "print()\n",
    "plt.figure(figsize=(15, 5))\n",
    "mli.plot_reliability_diagram(y_test, testset_platt_probs, show_histogram=True, scaling='logit');\n",
    "plt.title('Reliability Diagram on Test Data\\n after Platt Calibration');"
   ],
   "id": "46273154c35deab6",
   "execution_count": 23,
   "outputs": []
  },
  {
   "metadata": {},
   "cell_type": "code",
   "execution_count": null,
   "source": "",
   "id": "1e6d0c4ca5a69d5d",
   "outputs": []
  }
 ],
 "metadata": {
  "kernelspec": {
   "display_name": "Python 3",
   "language": "python",
   "name": "python3"
  },
  "language_info": {
   "codemirror_mode": {
    "name": "ipython",
    "version": 2
   },
   "file_extension": ".py",
   "mimetype": "text/x-python",
   "name": "python",
   "nbconvert_exporter": "python",
   "pygments_lexer": "ipython2",
   "version": "2.7.6"
  }
 },
 "nbformat": 4,
 "nbformat_minor": 5
}
