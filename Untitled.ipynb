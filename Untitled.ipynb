{
 "cells": [
  {
   "cell_type": "code",
   "execution_count": 1,
   "id": "3240385d-69a7-4d44-8e89-bf49ee1a7793",
   "metadata": {},
   "source": [
    "import pandas as pd"
   ],
   "outputs": []
  },
  {
   "cell_type": "code",
   "execution_count": 2,
   "id": "0f566f69-3e3d-4775-9786-12610c1a003f",
   "metadata": {},
   "source": [
    "import shap\n",
    "import sklearn\n",
    "from sklearn.model_selection import train_test_split\n",
    "import numpy as np\n",
    "\n",
    "# fit a GAM model to the data\n",
    "\n",
    "# a classic housing price dataset\n",
    "X,y = shap.datasets.california()\n",
    "idx_all = list(range(len(X)))\n",
    "X_train, X_test, y_train, y_test= train_test_split(idx_all, idx_all)\n",
    "# Sample 10 data points\n",
    "X100 = X.iloc[X_train]  # Convert X to a DataFrame\n",
    "Y100 = np.array([y[i] for i in y_train])  # Convert y to a NumPy array\n",
    "XTest = X.iloc[X_test]\n",
    "yTest = np.array([y[i] for i in y_test])\n",
    "# Create a simple linear regression model\n",
    "\n"
   ],
   "outputs": []
  },
  {
   "cell_type": "code",
   "execution_count": 3,
   "id": "4f5d057e-fc37-450e-b80f-ba43bf64316d",
   "metadata": {},
   "source": [
    "import interpret.glassbox\n",
    "model_ebm = interpret.glassbox.ExplainableBoostingRegressor()\n",
    "model_ebm.fit(X, y)"
   ],
   "outputs": []
  },
  {
   "cell_type": "code",
   "execution_count": 4,
   "id": "1d295a65-1dee-427f-a7f9-71f56e9e1fbd",
   "metadata": {},
   "source": [
    "r_squared = model_ebm.score(XTest, yTest)\n",
    "model = model_ebm\n",
    "print(r_squared)"
   ],
   "outputs": []
  },
  {
   "cell_type": "code",
   "execution_count": 5,
   "id": "e8f4fed2-0973-46e3-9428-c2a63759505b",
   "metadata": {},
   "source": [
    "import shap\n",
    "\n",
    "print(shap.__version__)"
   ],
   "outputs": []
  },
  {
   "cell_type": "code",
   "execution_count": 6,
   "id": "f6fe7664-b903-45ae-b91a-7f557893faa1",
   "metadata": {},
   "source": [
    "print(\"Model coefficients:\\n\")\n",
    "for i in range(X.shape[1]):\n",
    "    print(X.columns[i], \"=\", model.coef_[i].round(4))"
   ],
   "outputs": []
  },
  {
   "cell_type": "code",
   "execution_count": 7,
   "id": "4c50b108-676c-46fb-a01a-55f7cc2efca6",
   "metadata": {},
   "source": [
    "shap.plots.partial_dependence(\"HouseAge\", model.predict, X100, ice=False, model_expected_value=True, feature_expected_value=True)\n"
   ],
   "outputs": []
  },
  {
   "cell_type": "code",
   "execution_count": 9,
   "id": "451b3e77-6d51-4bec-8d0e-4fd4b24f658e",
   "metadata": {},
   "source": [
    "# compute the SHAP values for the linear model\n",
    "background = shap.maskers.Independent(X100, max_samples=100)\n",
    "explainer = shap.Explainer(model.predict, background)\n",
    "shap_values = explainer(X100)\n",
    "\n",
    "\n"
   ],
   "outputs": []
  },
  {
   "cell_type": "code",
   "execution_count": 10,
   "id": "4543318d-2b2f-4bcd-aac3-e96393d3e675",
   "metadata": {},
   "source": [
    "# make a standard partial dependence plot\n",
    "sample_ind = 56\n",
    "fig,ax = shap.partial_dependence_plot(\n",
    "    \"HouseAge\", model.predict, X100, model_expected_value=True,\n",
    "    feature_expected_value=True, show=False, ice=False,\n",
    "    shap_values=shap_values[sample_ind:sample_ind+1,:]\n",
    ")"
   ],
   "outputs": []
  },
  {
   "cell_type": "code",
   "execution_count": 11,
   "id": "51218130-18ee-43be-b619-5c9aa9752b9c",
   "metadata": {},
   "source": [
    "shap.plots.scatter(shap_values[:,\"HouseAge\"])\n"
   ],
   "outputs": []
  },
  {
   "cell_type": "code",
   "execution_count": 12,
   "id": "87139dbc-6c91-461d-a3a6-448bd0cbb2a3",
   "metadata": {},
   "source": [
    "shap.plots.waterfall(shap_values[sample_ind], max_display=14)\n"
   ],
   "outputs": []
  },
  {
   "cell_type": "code",
   "execution_count": 16,
   "id": "efa72f4e-68c9-417b-8405-9f8d6dc962f9",
   "metadata": {},
   "source": [
    "shap_values[sample_ind][\"MedInc\"]"
   ],
   "outputs": []
  },
  {
   "cell_type": "code",
   "execution_count": 62,
   "id": "d07ea778-eb1a-4922-b6be-5e97b149a4ea",
   "metadata": {},
   "source": [
    "np.mean(Y100)"
   ],
   "outputs": []
  },
  {
   "cell_type": "code",
   "execution_count": 63,
   "id": "b2de0861-0417-4d04-9623-5ee1321a834a",
   "metadata": {},
   "source": [
    "np.max(Y100)"
   ],
   "outputs": []
  },
  {
   "cell_type": "code",
   "execution_count": 16,
   "id": "10ae4754-0daa-47cd-b206-158a05368f62",
   "metadata": {},
   "source": [
    "np.argmax(Y100)"
   ],
   "outputs": []
  },
  {
   "cell_type": "code",
   "execution_count": null,
   "id": "84018e92-0c59-4f0c-b28e-c7c25f7b7155",
   "metadata": {},
   "source": [],
   "outputs": []
  }
 ],
 "metadata": {
  "kernelspec": {
   "display_name": "Python 3 (ipykernel)",
   "language": "python",
   "name": "python3"
  },
  "language_info": {
   "codemirror_mode": {
    "name": "ipython",
    "version": 3
   },
   "file_extension": ".py",
   "mimetype": "text/x-python",
   "name": "python",
   "nbconvert_exporter": "python",
   "pygments_lexer": "ipython3",
   "version": "3.11.9"
  }
 },
 "nbformat": 4,
 "nbformat_minor": 5
}
